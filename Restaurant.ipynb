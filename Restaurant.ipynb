{
  "nbformat": 4,
  "nbformat_minor": 0,
  "metadata": {
    "kernelspec": {
      "name": "python3",
      "display_name": "Python 3",
      "language": "python"
    },
    "language_info": {
      "name": "python",
      "version": "3.7.6",
      "mimetype": "text/x-python",
      "codemirror_mode": {
        "name": "ipython",
        "version": 3
      },
      "pygments_lexer": "ipython3",
      "nbconvert_exporter": "python",
      "file_extension": ".py"
    },
    "colab": {
      "name": "Restaurant.ipynb",
      "provenance": []
    }
  },
  "cells": [
    {
      "cell_type": "code",
      "metadata": {
        "trusted": true,
        "id": "jTbiWsOHomVO",
        "colab_type": "code",
        "colab": {
          "base_uri": "https://localhost:8080/",
          "height": 319
        },
        "outputId": "eabf159a-ee25-4721-e744-35f7c9328a7f"
      },
      "source": [
        "import pandas\n",
        "\n",
        "class Restaurant(object):\n",
        "    def __init__(self, restaurantName, address):\n",
        "        self.menuId = 0\n",
        "        self.partyId = 0\n",
        "        self.restaurantName = restaurantName\n",
        "        self.adress = address\n",
        "        self.menu = {}\n",
        "        self.dinningParties = {}\n",
        "        self.menuData = {'itemName':{}, 'price':{}, 'category':{}, 'cuisine': {}}\n",
        "        self.orderItemData = {'itemName':{}, 'quantity':{}, 'subtotal':{}}\n",
        "        self.dinnersData = {'partyName': {}, 'size':{}, 'orderItems': {}, 'itemCount': {}, 'totalCost':{}}\n",
        "\n",
        "    def addMenu(self, itemName, price, category, cuisine):\n",
        "        self.menuId = self.menuId + 1\n",
        "        self.menuData['itemName'][itemName] = itemName\n",
        "        self.menuData['price'][itemName] = price\n",
        "        self.menuData['category'][itemName] = category\n",
        "        self.menuData['cuisine'][itemName] = cuisine\n",
        "\n",
        "    def getMenuPrice(self, itemName):\n",
        "        return self.menuData.get('price')[itemName]\n",
        "\n",
        "    def getMenuData(self):\n",
        "        return (pandas.DataFrame(self.menuData))\n",
        "\n",
        "    def addDinningParty(self, partyName, size):\n",
        "        self.partyId = self.partyId + 1\n",
        "        self.dinnersData['partyName'][partyName] = partyName\n",
        "        self.dinnersData['size'][partyName] = size\n",
        "        self.dinnersData['orderItems'][partyName] = []\n",
        "        self.dinnersData['itemCount'][partyName] = 1\n",
        "\n",
        "    def addOrderItem(self, partyName, itemName, quantity):\n",
        "        count = self.dinnersData['itemCount'][partyName]\n",
        "        self.dinnersData['itemCount'][partyName] = self.dinnersData['itemCount'][partyName] + 1\n",
        "        menuPrice = getMenuPrice(itemName)\n",
        "        orderItem = OrderItem(itemName, quantity, (menuPrice * quantity))\n",
        "        (self.dinnersData['orderItems'][partyName]).insert(count, orderItem)\n",
        "\n",
        "class Menu(object):\n",
        "    def __init__(self, menuId, itemName, price, category, cuisine):\n",
        "        self.id = menuId\n",
        "        self.itemName = itemName\n",
        "        self.price = price\n",
        "        self.category = category\n",
        "        self.cuisine = cuisine \n",
        "\n",
        "class DinningParty(object):\n",
        "    def __init__(self, partyId, partyName, orderItems, size, totalCost):\n",
        "        slef.id = partyId\n",
        "        slef.partyName = partyName\n",
        "        slef.orderItems = orderItems\n",
        "        slef.size = size\n",
        "        slef.totalCost = totalCost\n",
        "\n",
        "class OrderItem(object):\n",
        "    def __init__(self, itemName, quantity, subtotal):\n",
        "        slef.itemName = itemName\n",
        "        slef.quantity = quantity\n",
        "        slef.subtotal = subtotal\n",
        "\n",
        "myres = Restaurant(restaurantName = 'Sami kitchen', address = '7 Calvert Ave E, Edison, NJ 08820')\n",
        "\n",
        "myres.addMenu('idli', 5, 'entree', 'Indian')\n",
        "myres.addMenu('samber', 2, 'side dish', 'Indian')\n",
        "myres.addMenu('dosa', 5, 'entree', 'Indian')\n",
        "myres.addMenu('rasam rice', 5, 'entree', 'Indian')\n",
        "myres.addMenu('samber rice', 5, 'entree', 'Indian')\n",
        "myres.addMenu('vada', 1, 'appetizer', 'Indian')\n",
        "myres.addMenu('burger', 5, 'entree', 'American')\n",
        "myres.addMenu('pizza', 7, 'entree', 'Italian')\n",
        "myres.addMenu('lazania', 7, 'entree', 'Italian')\n",
        "myres.addMenu('noodles', 5, 'entree', 'Chinese')\n",
        "myres.addMenu('fried rice', 5, 'entree', 'Chinese')\n",
        "\n",
        "myres.addDinningParty('Sami family', 3)\n",
        "myres.addDinningParty('Nandini family', 4)\n",
        "myres.addDinningParty('Aarna family', 3)\n",
        "myres.addDinningParty('Swathi family', 5)\n",
        "\n",
        "df = myres.getMenuData()\n",
        "print(\"menu data = \", myres.menuData)\n",
        "df.plot.barh(x = 'itemName', y = 'price', rot = 0, color = 'red')\n",
        "\n"
      ],
      "execution_count": 2,
      "outputs": [
        {
          "output_type": "stream",
          "text": [
            "menu data =  {'itemName': {'idli': 'idli', 'samber': 'samber', 'dosa': 'dosa', 'rasam rice': 'rasam rice', 'samber rice': 'samber rice', 'vada': 'vada', 'burger': 'burger', 'pizza': 'pizza', 'lazania': 'lazania', 'noodles': 'noodles', 'fried rice': 'fried rice'}, 'price': {'idli': 5, 'samber': 2, 'dosa': 5, 'rasam rice': 5, 'samber rice': 5, 'vada': 1, 'burger': 5, 'pizza': 7, 'lazania': 7, 'noodles': 5, 'fried rice': 5}, 'category': {'idli': 'entree', 'samber': 'side dish', 'dosa': 'entree', 'rasam rice': 'entree', 'samber rice': 'entree', 'vada': 'appetizer', 'burger': 'entree', 'pizza': 'entree', 'lazania': 'entree', 'noodles': 'entree', 'fried rice': 'entree'}, 'cuisine': {'idli': 'Indian', 'samber': 'Indian', 'dosa': 'Indian', 'rasam rice': 'Indian', 'samber rice': 'Indian', 'vada': 'Indian', 'burger': 'American', 'pizza': 'Italian', 'lazania': 'Italian', 'noodles': 'Chinese', 'fried rice': 'Chinese'}}\n"
          ],
          "name": "stdout"
        },
        {
          "output_type": "execute_result",
          "data": {
            "text/plain": [
              "<matplotlib.axes._subplots.AxesSubplot at 0x7f21bc4b36d8>"
            ]
          },
          "metadata": {
            "tags": []
          },
          "execution_count": 2
        },
        {
          "output_type": "display_data",
          "data": {
            "image/png": "[encoded data removed]",
            "text/plain": [
              "<Figure size 432x288 with 1 Axes>"
            ]
          },
          "metadata": {
            "tags": [],
            "needs_background": "light"
          }
        }
      ]
    }
  ]
}