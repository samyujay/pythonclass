{
  "nbformat": 4,
  "nbformat_minor": 0,
  "metadata": {
    "colab": {
      "name": "Pencil.ipynb",
      "provenance": [],
      "authorship_tag": "ABX9TyM+7odG9tIASli2hL0wyWgg",
      "include_colab_link": true
    },
    "kernelspec": {
      "name": "python3",
      "display_name": "Python 3"
    }
  },
  "cells": [
    {
      "cell_type": "markdown",
      "metadata": {
        "id": "view-in-github",
        "colab_type": "text"
      },
      "source": [
        "<a href=\"https://colab.research.google.com/github/samyujay/pythonclass/blob/master/Pencil.ipynb\" target=\"_parent\"><img src=\"https://colab.research.google.com/assets/colab-badge.svg\" alt=\"Open In Colab\"/></a>"
      ]
    },
    {
      "cell_type": "code",
      "metadata": {
        "id": "uz7WE1lKrU2S",
        "colab_type": "code",
        "colab": {
          "base_uri": "https://localhost:8080/",
          "height": 85
        },
        "outputId": "1cec707e-98e1-4c49-d76a-010622692f41"
      },
      "source": [
        "from termcolor import colored\n",
        "\n",
        "class Pencil(object):\n",
        "  def __init__(self):\n",
        "    self.color = \"red\"\n",
        "\n",
        "  def getColor(self):\n",
        "    return self.color\n",
        "\n",
        "  def setColor(self, newColor):\n",
        "    self.color = newColor\n",
        "\n",
        "  def writeText(self, text):\n",
        "    return (colored(text, self.color))\n",
        "\n",
        "  def checkColor(self):\n",
        "    print( \"I am a \" + colored(self.color, self.color) + \" pencil\" )\n",
        "\n",
        "if __name__ == '__main__':\n",
        "  pencil = Pencil()\n",
        "  pencil.checkColor()\n",
        "\n",
        "  print(pencil.writeText(\"Today is a beautiful day\"))\n",
        "\n",
        "  pencil.setColor(\"green\")\n",
        "  pencil.checkColor()\n",
        "\n",
        "  print(pencil.writeText(\"My name is Sami\"))"
      ],
      "execution_count": 6,
      "outputs": [
        {
          "output_type": "stream",
          "text": [
            "I am a \u001b[31mred\u001b[0m pencil\n",
            "\u001b[31mToday is a beautiful day\u001b[0m\n",
            "I am a \u001b[32mgreen\u001b[0m pencil\n",
            "\u001b[32mMy name is Sami\u001b[0m\n"
          ],
          "name": "stdout"
        }
      ]
    }
  ]
}