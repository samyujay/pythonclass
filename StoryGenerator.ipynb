{
  "nbformat": 4,
  "nbformat_minor": 0,
  "metadata": {
    "colab": {
      "name": "StoryGenerator.ipynb",
      "provenance": [],
      "authorship_tag": "ABX9TyP9hzm1ek2JOFv5Qbp99pk5",
      "include_colab_link": true
    },
    "kernelspec": {
      "name": "python3",
      "display_name": "Python 3"
    }
  },
  "cells": [
    {
      "cell_type": "markdown",
      "metadata": {
        "id": "view-in-github",
        "colab_type": "text"
      },
      "source": [
        "<a href=\"https://colab.research.google.com/github/samyujay/pythonclass/blob/master/StoryGenerator.ipynb\" target=\"_parent\"><img src=\"https://colab.research.google.com/assets/colab-badge.svg\" alt=\"Open In Colab\"/></a>"
      ]
    },
    {
      "cell_type": "code",
      "metadata": {
        "id": "H9ATgGQMNy8U",
        "colab_type": "code",
        "colab": {
          "base_uri": "https://localhost:8080/",
          "height": 71
        },
        "outputId": "156fd6fa-f4a2-42ee-8e66-608747e948af"
      },
      "source": [
        "class StoryGenerator(object):\n",
        "    def __init__(self):\n",
        "      self.SL_NAME = \"My name is __VALUE__.\"\n",
        "      self.SL_AGE = \"I am __VALUE__ years old.\"\n",
        "      self.SL_FRIEND = \"My best friend's name is __VALUE__.\"\n",
        "      self.SL_COLOR = \"My favorite color is __VALUE__.\"\n",
        "      self.SL_CAREER = \"I want to be a/an __VALUE__ when I grow up.\"\n",
        "      self.SL_FOOD = \"My favorite food is __VALUE__.\"\n",
        "      self.SL_PASSTIME = \"In my free time I would like to play with my __VALUE__.\"\n",
        "      self.SL_BOOK = \"My favorite book / book series is __VALUE__.\"\n",
        "      self.SL_TRAVEL = \"I would like to travel to __VALUE__ during summer break.\"\n",
        "      self.SL_EXERCISE = \"My favorite way of exercise is __VALUE__.\"\n",
        "\n",
        "    def generateStory(self, dict):\n",
        "      story = \"\"\n",
        "\n",
        "      if dict.get(\"name\"):\n",
        "        story = story + \" \" + self.SL_NAME.replace(\"__VALUE__\", dict.get(\"name\"))\n",
        "      \n",
        "      if dict.get(\"age\"):\n",
        "        story = story + \" \" + self.SL_AGE.replace(\"__VALUE__\", dict.get(\"age\"))\n",
        "\n",
        "      if dict.get(\"friend\"):\n",
        "        story = story + \" \" + self.SL_FRIEND.replace(\"__VALUE__\", dict.get(\"friend\"))\n",
        "\n",
        "      if dict.get(\"color\"):\n",
        "        story = story + \" \" + self.SL_COLOR.replace(\"__VALUE__\", dict.get(\"color\"))\n",
        "\n",
        "      if dict.get(\"career\"):\n",
        "        story = story + \" \" + self.SL_CAREER.replace(\"__VALUE__\", dict.get(\"career\"))\n",
        "\n",
        "      if dict.get(\"food\"):\n",
        "        story = story + \" \" + self.SL_FOOD.replace(\"__VALUE__\", dict.get(\"food\"))\n",
        "\n",
        "      if dict.get(\"passtime\"):\n",
        "        story = story + \" \" + self.SL_PASSTIME.replace(\"__VALUE__\", dict.get(\"passtime\"))\n",
        "\n",
        "      if dict.get(\"book\"):\n",
        "        story = story + \" \" + self.SL_BOOK.replace(\"__VALUE__\", dict.get(\"book\"))\n",
        "\n",
        "      if dict.get(\"travel\"):\n",
        "        story = story + \" \" + self.SL_TRAVEL.replace(\"__VALUE__\", dict.get(\"travel\"))\n",
        "\n",
        "      if dict.get(\"exercise\"):\n",
        "        story = story + \" \" + self.SL_EXERCISE.replace(\"__VALUE__\", dict.get(\"exercise\"))\n",
        "\n",
        "      return story;\n",
        "\n",
        "if __name__ == '__main__':\n",
        "  storyGen = StoryGenerator()\n",
        "\n",
        "  dict = { \"name\": \"Sami\", \"age\": \"10\", \"friend\": \"Nandini\", \"color\": \"red\", \"career\": \"doctor\", \"food\": \"pasta\", \"passtime\": \"legos\", \"book\": \"Diary of a Whimpy Kid\", \"travel\": \"India\", \"exercise\": \"biking\" }\n",
        "\n",
        "  story = storyGen.generateStory(dict)\n",
        "\n",
        "  print(story)\n",
        "\n",
        "  dict = { \"name\": \"Nandini\", \"age\": \"10\", \"friend\": \"Sami\", \"color\": \"blue\", \"career\": \"actress\", \"passtime\": \"dolls\", \"book\": \"The Famous Five\", \"travel\": \"India\", \"exercise\": \"biking / scooters\" }\n",
        "\n",
        "  story = storyGen.generateStory(dict)\n",
        "\n",
        "  print(story)\n",
        "  "
      ],
      "execution_count": 16,
      "outputs": [
        {
          "output_type": "stream",
          "text": [
            " My name is Sami. I am 10 years old. My best friend's name is Nandini. My favorite color is red. I want to be a/an doctor when I grow up. My favorite food is pasta. In my free time I would like to play with my legos. My favorite book / book series is Diary of a Whimpy Kid. I would like to travel to India during summer break. My favorite way of exercise is biking.\n",
            " My name is Nandini. I am 10 years old. My best friend's name is Sami. My favorite color is blue. I want to be a/an actress when I grow up. In my free time I would like to play with my dolls. My favorite book / book series is The Famous Five. I would like to travel to India during summer break. My favorite way of exercise is biking / scooters.\n"
          ],
          "name": "stdout"
        }
      ]
    }
  ]
}