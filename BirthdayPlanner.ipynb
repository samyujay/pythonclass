{
  "nbformat": 4,
  "nbformat_minor": 0,
  "metadata": {
    "colab": {
      "name": "BirthdayPlanner.ipynb",
      "provenance": [],
      "authorship_tag": "ABX9TyM/5BD2qGHnFIo5XV5S9fyW",
      "include_colab_link": true
    },
    "kernelspec": {
      "name": "python3",
      "display_name": "Python 3"
    }
  },
  "cells": [
    {
      "cell_type": "markdown",
      "metadata": {
        "id": "view-in-github",
        "colab_type": "text"
      },
      "source": [
        "<a href=\"https://colab.research.google.com/github/samyujay/pythonclass/blob/master/BirthdayPlanner.ipynb\" target=\"_parent\"><img src=\"https://colab.research.google.com/assets/colab-badge.svg\" alt=\"Open In Colab\"/></a>"
      ]
    },
    {
      "cell_type": "code",
      "metadata": {
        "id": "-ymuRjCUaLIw",
        "colab_type": "code",
        "colab": {
          "base_uri": "https://localhost:8080/",
          "height": 272
        },
        "outputId": "52dc9018-6a33-44d7-816d-cfdf6985d6ae"
      },
      "source": [
        "from datetime import date\n",
        "\n",
        "class BirthdayPlanner(object):\n",
        "  def __init__(self, name, birthYear, birthMonth, birthDay):\n",
        "    self.name = name\n",
        "    self.birthDate = date(birthYear, birthMonth, birthDay)\n",
        "\n",
        "  def printAge(self):\n",
        "    today = date.today() \n",
        "    delta = (today - self.birthDate)\n",
        "    # crude way to calculate age\n",
        "    age = int(delta.days / 365)\n",
        "  \n",
        "    print(self.name + \" is \" + str(age) + \" years young\")\n",
        "\n",
        "  def daysPastLastBirthday(self):\n",
        "    today = date.today()\n",
        "    # assume this year's birthday is in past\n",
        "    delta = (today - self.birthDate.replace(year=today.year))\n",
        "    \n",
        "    if delta.days < 0:\n",
        "      delta = (today - self.birthDate.replace(year=(today.year - 1)))\n",
        "      print(self.name + \"'s last birth day was \" + str(delta.days) + \" days ago\")\n",
        "    elif delta.days == 0:\n",
        "      print(\"Awesome. \" + self.name + \"'s birth day is today.  Happy birthday \" + self.name)\n",
        "    else:\n",
        "      print(self.name + \"'s last birth day was \" + str(delta.days) + \" days ago\")\n",
        "\n",
        "  def daysTillNextBirthday(self):\n",
        "    today = date.today()\n",
        "    nextBirthday = self.birthDate.replace(year=today.year+1)\n",
        "    # assume this year's birthday is in past\n",
        "    delta = (nextBirthday - today)\n",
        "    \n",
        "    if delta.days > 365:\n",
        "      delta = (nextBirthday.replace(year=(nextBirthday.year - 1)) - today)\n",
        "      print(self.name + \"'s next birth day will be in \" + str(delta.days) + \" days\")\n",
        "    elif delta.days == 0:\n",
        "      print(\"Awesome. \" + self.name + \"'s birth day is today.  Happy birthday \" + self.name + \" and have to wait for 365 days for next birthday\")\n",
        "    else:\n",
        "      print(self.name + \"'s next birth day will be in \" + str(delta.days) + \" days\")\n",
        "\n",
        "if __name__ == '__main__':\n",
        "  samiBdayPlanner = BirthdayPlanner(\"Sami\", 2010, 5, 19)\n",
        "  samiBdayPlanner.printAge()\n",
        "  samiBdayPlanner.daysPastLastBirthday()\n",
        "  samiBdayPlanner.daysTillNextBirthday()\n",
        "  print(\"\\n\")\n",
        "\n",
        "  nandiniBdayPlanner = BirthdayPlanner(\"Nandini\", 2010, 10, 11)\n",
        "  nandiniBdayPlanner.printAge()\n",
        "  nandiniBdayPlanner.daysPastLastBirthday()\n",
        "  nandiniBdayPlanner.daysTillNextBirthday()\n",
        "  print(\"\\n\")\n",
        "\n",
        "  mayurBdayPlanner = BirthdayPlanner(\"Mayur\", 2015, 5, 5)\n",
        "  mayurBdayPlanner.printAge()\n",
        "  mayurBdayPlanner.daysPastLastBirthday()\n",
        "  mayurBdayPlanner.daysTillNextBirthday()\n",
        "  print(\"\\n\")\n"
      ],
      "execution_count": 29,
      "outputs": [
        {
          "output_type": "stream",
          "text": [
            "Sami is 10 years young\n",
            "Sami's last birth day was 69 days ago\n",
            "Sami's next birth day will be in 296 days\n",
            "\n",
            "\n",
            "Nandini is 9 years young\n",
            "Nandini's last birth day was 290 days ago\n",
            "Nandini's next birth day will be in 76 days\n",
            "\n",
            "\n",
            "Mayur is 5 years young\n",
            "Mayur's last birth day was 83 days ago\n",
            "Mayur's next birth day will be in 282 days\n",
            "\n",
            "\n"
          ],
          "name": "stdout"
        }
      ]
    }
  ]
}