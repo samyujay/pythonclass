{
  "nbformat": 4,
  "nbformat_minor": 0,
  "metadata": {
    "colab": {
      "name": "ExpressionSolver.ipynb",
      "provenance": [],
      "authorship_tag": "ABX9TyPG/8GoQYdk23aVd0DGonC4",
      "include_colab_link": true
    },
    "kernelspec": {
      "name": "python3",
      "display_name": "Python 3"
    }
  },
  "cells": [
    {
      "cell_type": "markdown",
      "metadata": {
        "id": "view-in-github",
        "colab_type": "text"
      },
      "source": [
        "<a href=\"https://colab.research.google.com/github/samyujay/pythonclass/blob/master/ExpressionSolver.ipynb\" target=\"_parent\"><img src=\"https://colab.research.google.com/assets/colab-badge.svg\" alt=\"Open In Colab\"/></a>"
      ]
    },
    {
      "cell_type": "code",
      "metadata": {
        "id": "d8dZS7ZMaEh8",
        "colab_type": "code",
        "colab": {
          "base_uri": "https://localhost:8080/",
          "height": 204
        },
        "outputId": "cfe09057-004a-4f48-9126-f15eb0b7b4fc"
      },
      "source": [
        "class ExpressionSolver(object):\n",
        "  def __init__(self):\n",
        "    self.a = 0\n",
        "    self.b = 0\n",
        "    self.op = ''\n",
        "    self.SUPPORTED_OPERATORS = [\"+\", \"-\", \"*\", \"/\", \"%\", \"^\", \">\", \">=\", \"=\", \"<\", \"<=\", \"!=\"]\n",
        "\n",
        "  def __doSolve(self, expression):\n",
        "    values = expression.split(\" \")\n",
        "    self.a = float(values[0])\n",
        "    self.op = values[1]\n",
        "    self.b = float(values[2])\n",
        "\n",
        "    if self.op not in self.SUPPORTED_OPERATORS:\n",
        "      return f'Operator {self.op} NOT a supported operator'\n",
        "\n",
        "    if(self.op == '+'):\n",
        "      return(self.a + self.b)\n",
        "\n",
        "    if(self.op == '-'):\n",
        "      return(self.a - self.b)\n",
        "\n",
        "    if(self.op == '*'):\n",
        "      return(self.a * self.b)\n",
        "\n",
        "    if(self.op == '/'):\n",
        "      return(self.a / self.b)\n",
        "\n",
        "    if(self.op == '%'):\n",
        "      return(self.a % self.b)\n",
        "\n",
        "    if(self.op == '^'):\n",
        "      return(self.a ** self.b)\n",
        "\n",
        "    if(self.op == '>'):\n",
        "      return(self.a > self.b)\n",
        "\n",
        "    if(self.op == '>='):\n",
        "      return(self.a >= self.b)\n",
        "\n",
        "    if(self.op == '='):\n",
        "      return(self.a == self.b)\n",
        "\n",
        "    if(self.op == '<'):\n",
        "      return(self.a < self.b)\n",
        "\n",
        "    if(self.op == '<='):\n",
        "      return(self.a <= self.b)\n",
        "\n",
        "    if(self.op == '!='):\n",
        "      return(self.a != self.b)\n",
        "\n",
        "  def solve(self, expression):\n",
        "    result = self.__doSolve(expression)\n",
        "    print(f'{expression}    ====>   {result}')\n",
        "\n",
        "if __name__ == '__main__':\n",
        "  solver = ExpressionSolver()\n",
        "\n",
        "  solver.solve(\"5 >= 3\")\n",
        "  solver.solve(\"2 >= 3\")\n",
        "  solver.solve(\"10 + 4\")\n",
        "  solver.solve(\"25 ^ 4\")\n",
        "  solver.solve(\"7 - 5\")\n",
        "  solver.solve(\"8 = 7\")\n",
        "  solver.solve(\"9 != 3\")\n",
        "  solver.solve(\"9 != 9\")\n",
        "  solver.solve(\"8 * 12\")\n",
        "  solver.solve(\"53 <= 39\")\n",
        "  solver.solve(\"5999999 * 3923749827398472\")\n",
        "  "
      ],
      "execution_count": 8,
      "outputs": [
        {
          "output_type": "stream",
          "text": [
            "5 >= 3    ====>   True\n",
            "2 >= 3    ====>   False\n",
            "10 + 4    ====>   14.0\n",
            "25 ^ 4    ====>   390625.0\n",
            "7 - 5    ====>   2.0\n",
            "8 = 7    ====>   False\n",
            "9 != 3    ====>   True\n",
            "9 != 9    ====>   False\n",
            "8 * 12    ====>   96.0\n",
            "53 <= 39    ====>   False\n",
            "5999999 * 3923749827398472    ====>   2.3542495040641004e+22\n"
          ],
          "name": "stdout"
        }
      ]
    }
  ]
}